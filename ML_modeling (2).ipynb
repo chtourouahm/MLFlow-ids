{
  "cells": [
    {
      "cell_type": "code",
      "execution_count": 1,
      "id": "3bdd7a8a",
      "metadata": {
        "id": "3bdd7a8a",
        "outputId": "68a4e29f-505e-4255-aa2b-d19c721b4ff4",
        "pycharm": {
          "name": "#%%\n"
        }
      },
      "outputs": [],
      "source": [
        "import pandas as pd\n",
        "pd.options.display.max_columns = None\n",
        "import seaborn as sns\n",
        "from sklearn.preprocessing import LabelEncoder\n",
        "from sklearn.linear_model import LogisticRegression\n",
        "from sklearn.metrics import confusion_matrix, classification_report\n",
        "from sklearn.ensemble import RandomForestClassifier\n",
        "from sklearn.metrics import precision_recall_fscore_support as score\n",
        "from xgboost import XGBClassifier\n",
        "import mlflow\n",
        "import datetime\n",
        "import warnings\n",
        "warnings.filterwarnings(\"ignore\")"
      ]
    },
    {
      "cell_type": "code",
      "execution_count": 2,
      "id": "f5d47d75",
      "metadata": {
        "id": "f5d47d75"
      },
      "outputs": [],
      "source": [
        "version = \"v1.0\"\n",
        "data_url = \"part-00000-363d1ba3-8ab5-4f96-bc25-4d5862db7cb9-c000.csv\"\n"
      ]
    },
    {
      "cell_type": "code",
      "execution_count": 3,
      "id": "a85411bf",
      "metadata": {
        "id": "a85411bf",
        "pycharm": {
          "name": "#%%\n"
        }
      },
      "outputs": [],
      "source": [
        "import sys\n",
        "sys.path.insert(0, '../backend/src')\n",
        "\n"
      ]
    },
    {
      "cell_type": "code",
      "execution_count": 4,
      "id": "1e6f9826",
      "metadata": {
        "id": "1e6f9826",
        "pycharm": {
          "name": "#%%\n"
        }
      },
      "outputs": [],
      "source": [
        "#read the data\n",
        "df = pd.read_csv(\"part-00000-363d1ba3-8ab5-4f96-bc25-4d5862db7cb9-c000.csv\")"
      ]
    },
    {
      "cell_type": "code",
      "execution_count": 5,
      "id": "df3afb25",
      "metadata": {
        "id": "df3afb25",
        "outputId": "a273736e-bb48-458a-d963-746ea9f0af7e"
      },
      "outputs": [],
      "source": [
        "#shape of the data\n",
        "X_columns = [\n",
        "    'flow_duration', 'Header_Length', 'Protocol Type', 'Duration',\n",
        "       'Rate', 'Srate', 'Drate', 'fin_flag_number', 'syn_flag_number',\n",
        "       'rst_flag_number', 'psh_flag_number', 'ack_flag_number',\n",
        "       'ece_flag_number', 'cwr_flag_number', 'ack_count',\n",
        "       'syn_count', 'fin_count', 'urg_count', 'rst_count', \n",
        "    'HTTP', 'HTTPS', 'DNS', 'Telnet', 'SMTP', 'SSH', 'IRC', 'TCP',\n",
        "       'UDP', 'DHCP', 'ARP', 'ICMP', 'IPv', 'LLC', 'Tot sum', 'Min',\n",
        "       'Max', 'AVG', 'Std', 'Tot size', 'IAT', 'Number', 'Magnitue',\n",
        "       'Radius', 'Covariance', 'Variance', 'Weight', \n",
        "]\n",
        "y_column = 'label'\n",
        "\n",
        "\n",
        "df=df[:5000]\n",
        "encoder=LabelEncoder()\n",
        "y=encoder.fit_transform(df[y_column])\n",
        "X=df[X_columns]"
      ]
    },
    {
      "cell_type": "markdown",
      "id": "f0aa4375",
      "metadata": {
        "id": "f0aa4375",
        "pycharm": {
          "name": "#%% md\n"
        }
      },
      "source": [
        "# 2. Machine Learning Modeling :"
      ]
    },
    {
      "cell_type": "markdown",
      "id": "fefb9aa1",
      "metadata": {
        "id": "fefb9aa1",
        "pycharm": {
          "name": "#%% md\n"
        }
      },
      "source": [
        "## 1. Logistic Regression :\n",
        "Logistic Regression : It is used in classification use cases where we\n",
        "want to predict a discrete target ( for example whether something is true\n",
        "or false). It catches the relationship between the target variable ( class\n",
        "column in our case ) and the independant features ( clump thickness ,\n",
        "sizeUniformity .. ) by fitting our data with the Sigmoid function."
      ]
    },
    {
      "cell_type": "code",
      "execution_count": 6,
      "id": "50acc4da",
      "metadata": {},
      "outputs": [],
      "source": [
        "from sklearn.model_selection import train_test_split\n",
        "X_resampled,X_test,y_resampled,y_test=train_test_split(X,y,test_size=0.2)"
      ]
    },
    {
      "cell_type": "code",
      "execution_count": 7,
      "id": "70eba953",
      "metadata": {
        "id": "70eba953",
        "pycharm": {
          "name": "#%%\n"
        }
      },
      "outputs": [],
      "source": [
        "mlflow.sklearn.autolog(disable=True)"
      ]
    },
    {
      "cell_type": "code",
      "execution_count": 8,
      "id": "5d9487ab",
      "metadata": {
        "id": "5d9487ab",
        "pycharm": {
          "name": "#%%\n"
        }
      },
      "outputs": [],
      "source": [
        "\n",
        "with mlflow.start_run(run_name='LogisticRegression'):\n",
        "    mlflow.log_param(\"data_url\",data_url)\n",
        "    mlflow.log_param(\"data_version\",version)\n",
        "    mlflow.log_param(\"input_rows\",df.shape[0])\n",
        "    mlflow.log_param(\"input_cols\",df.shape[1])\n",
        "    #model fitting and training\n",
        "    lr=LogisticRegression()\n",
        "    mlflow.set_tag(key= \"model\",value=\"LogisticRegression\")\n",
        "    lr.fit(X_resampled,y_resampled)\n",
        "    train_features_name = f'{X_resampled=}'.split('=')[0]\n",
        "    train_label_name = f'{y_resampled=}'.split('=')[0]\n",
        "    mlflow.set_tag(key=\"train_features_name\",value= train_features_name)\n",
        "    mlflow.set_tag(key= \"train_label_name\",value=train_label_name)\n",
        "    predicted=lr.predict(X_test)\n",
        "    precision,recall,fscore,support=score(y_test,predicted,average='macro')\n",
        "    mlflow.log_metric(\"Precision_test\",precision)\n",
        "    mlflow.log_metric(\"Recall_test\",recall)\n",
        "    mlflow.log_metric(\"F1_score_test\",fscore)\n",
        "    mlflow.sklearn.log_model(lr,artifact_path=\"ML_models\")\n"
      ]
    },
    {
      "cell_type": "code",
      "execution_count": 9,
      "id": "46947459",
      "metadata": {
        "id": "46947459"
      },
      "outputs": [],
      "source": [
        "lr=LogisticRegression()\n",
        "lr.fit(X_resampled,y_resampled)\n",
        "predicted=lr.predict(X_test)"
      ]
    },
    {
      "cell_type": "code",
      "execution_count": 10,
      "id": "41475232",
      "metadata": {},
      "outputs": [],
      "source": [
        "import pandas as pd\n",
        "import numpy as np\n",
        "%matplotlib inline\n",
        "import matplotlib.pyplot as plt\n",
        "import matplotlib.lines as mlines\n",
        "from mpl_toolkits.mplot3d import Axes3D\n",
        "import seaborn as sns\n",
        "from sklearn.model_selection import train_test_split, learning_curve\n",
        "from sklearn.metrics import average_precision_score\n",
        "from xgboost.sklearn import XGBClassifier\n",
        "from xgboost import plot_importance, to_graphviz"
      ]
    },
    {
      "cell_type": "markdown",
      "id": "c051b292",
      "metadata": {
        "id": "c051b292",
        "pycharm": {
          "name": "#%% md\n"
        }
      },
      "source": [
        "## Model evaluation :\n",
        "### Evaluation metrics:\n",
        "* **Precision:**\n",
        "Precision is one indicator of the quality of the positive predictions\n",
        "made by the model. **Of all the positive predictions I made, how many of them are truly positive?** \\\n",
        "Precision is defined as follows:"
      ]
    },
    {
      "cell_type": "markdown",
      "id": "0db7f053",
      "metadata": {
        "id": "0db7f053",
        "pycharm": {
          "name": "#%% md\n"
        }
      },
      "source": [
        "**Remark:**\n",
        " * A true positive (TP) is an outcome where the model correctly\n",
        "predicts the positive class. Similarly, a true negative (TN) is\n",
        "an outcome where the model correctly predicts the negative class.\n",
        " * A false positive (FP) is an outcome where the model incorrectly\n",
        "predicts the positive class. And a false negative (FN) is an\n",
        "outcome where the model incorrectly predicts the negative class."
      ]
    },
    {
      "cell_type": "markdown",
      "id": "11c8cd52",
      "metadata": {
        "id": "11c8cd52",
        "pycharm": {
          "name": "#%% md\n"
        }
      },
      "source": [
        "* **Recall:**\n",
        "Recall, a commonly used performance metric for classification models,\n",
        "is the fraction of positives that are correctly classified,**Of all the actual positive examples out there, how many of them did I correctly predict to be positive?**"
      ]
    },
    {
      "cell_type": "markdown",
      "id": "3af0dfd3",
      "metadata": {
        "id": "3af0dfd3",
        "pycharm": {
          "name": "#%% md\n"
        }
      },
      "source": [
        "* **F1-score:** To evaluate model performance comprehensively, we should examine both precision and recall. The F1 score serves as a helpful metric that considers both of them."
      ]
    },
    {
      "cell_type": "markdown",
      "id": "112ce3dd",
      "metadata": {
        "id": "112ce3dd",
        "pycharm": {
          "name": "#%% md\n"
        }
      },
      "source": [
        "* **Accuracy:**\n",
        "    Accuracy is the number of correctly predicted data points out of all the data points."
      ]
    },
    {
      "cell_type": "markdown",
      "id": "95b8f48d",
      "metadata": {
        "id": "95b8f48d",
        "pycharm": {
          "name": "#%% md\n"
        }
      },
      "source": [
        "**To evaluate fraud detection models, the concepts of recall and precision are very important.Recall  meaures how many fraud cases where trully detected while precision evaluates how good the model is at generating as fewer false alarms as possible. For fraud detection, we want to prioritize high recall to leave out as few fraud cases as possible while also having a relatively high precision because too many false alarms can also be a problem!**"
      ]
    },
    {
      "cell_type": "code",
      "execution_count": 11,
      "id": "e1404edf",
      "metadata": {
        "id": "e1404edf",
        "outputId": "15c8ccd7-61f1-44b9-bed7-dae8f4b3f98a",
        "pycharm": {
          "name": "#%%\n"
        }
      },
      "outputs": [
        {
          "name": "stdout",
          "output_type": "stream",
          "text": [
            "Classification report:\n",
            "               precision    recall  f1-score   support\n",
            "\n",
            "           1       0.57      0.60      0.59        20\n",
            "           4       0.00      0.00      0.00         8\n",
            "           5       0.00      0.00      0.00         1\n",
            "           6       0.16      1.00      0.28       152\n",
            "           7       0.00      0.00      0.00        16\n",
            "           8       0.00      0.00      0.00        98\n",
            "           9       0.00      0.00      0.00        88\n",
            "          10       0.00      0.00      0.00        92\n",
            "          12       0.00      0.00      0.00        86\n",
            "          13       0.00      0.00      0.00        98\n",
            "          14       0.00      0.00      0.00       110\n",
            "          15       0.00      0.00      0.00         8\n",
            "          16       0.00      0.00      0.00         6\n",
            "          17       0.00      0.00      0.00         2\n",
            "          18       0.00      0.00      0.00        35\n",
            "          19       0.00      0.00      0.00        46\n",
            "          20       0.00      0.00      0.00        68\n",
            "          21       0.00      0.00      0.00         9\n",
            "          22       0.00      0.00      0.00        16\n",
            "          23       0.00      0.00      0.00        14\n",
            "          24       0.62      0.75      0.68        20\n",
            "          25       0.00      0.00      0.00         1\n",
            "          26       0.00      0.00      0.00         2\n",
            "          27       0.00      0.00      0.00         3\n",
            "          29       0.00      0.00      0.00         1\n",
            "\n",
            "    accuracy                           0.18      1000\n",
            "   macro avg       0.05      0.09      0.06      1000\n",
            "weighted avg       0.05      0.18      0.07      1000\n",
            "\n",
            "Confusion matrix:\n",
            " [[ 12   0   0   0   0   0   0   0   0   0   4   0   0   0   0   0   0   0\n",
            "    0   0   4   0   0   0   0]\n",
            " [  0   0   0   8   0   0   0   0   0   0   0   0   0   0   0   0   0   0\n",
            "    0   0   0   0   0   0   0]\n",
            " [  0   0   0   1   0   0   0   0   0   0   0   0   0   0   0   0   0   0\n",
            "    0   0   0   0   0   0   0]\n",
            " [  0   0   0 152   0   0   0   0   0   0   0   0   0   0   0   0   0   0\n",
            "    0   0   0   0   0   0   0]\n",
            " [  0   0   0  16   0   0   0   0   0   0   0   0   0   0   0   0   0   0\n",
            "    0   0   0   0   0   0   0]\n",
            " [  0   0   0  98   0   0   0   0   0   0   0   0   0   0   0   0   0   0\n",
            "    0   0   0   0   0   0   0]\n",
            " [  0   0   0  88   0   0   0   0   0   0   0   0   0   0   0   0   0   0\n",
            "    0   0   0   0   0   0   0]\n",
            " [  0   0   0  92   0   0   0   0   0   0   0   0   0   0   0   0   0   0\n",
            "    0   0   0   0   0   0   0]\n",
            " [  0   0   0  86   0   0   0   0   0   0   0   0   0   0   0   0   0   0\n",
            "    0   0   0   0   0   0   0]\n",
            " [  0   0   0  98   0   0   0   0   0   0   0   0   0   0   0   0   0   0\n",
            "    0   0   0   0   0   0   0]\n",
            " [  0   0   0 110   0   0   0   0   0   0   0   0   0   0   0   0   0   0\n",
            "    0   0   0   0   0   0   0]\n",
            " [  3   0   0   1   0   0   0   0   0   0   4   0   0   0   0   0   0   0\n",
            "    0   0   0   0   0   0   0]\n",
            " [  1   0   0   4   0   0   0   0   0   0   0   0   0   0   0   0   0   0\n",
            "    0   0   1   0   0   0   0]\n",
            " [  0   0   0   2   0   0   0   0   0   0   0   0   0   0   0   0   0   0\n",
            "    0   0   0   0   0   0   0]\n",
            " [  0   0   0  35   0   0   0   0   0   0   0   0   0   0   0   0   0   0\n",
            "    0   0   0   0   0   0   0]\n",
            " [  0   0   0  46   0   0   0   0   0   0   0   0   0   0   0   0   0   0\n",
            "    0   0   0   0   0   0   0]\n",
            " [  0   0   0  68   0   0   0   0   0   0   0   0   0   0   0   0   0   0\n",
            "    0   0   0   0   0   0   0]\n",
            " [  4   0   0   1   0   0   0   0   0   0   1   0   0   0   0   0   0   0\n",
            "    0   0   3   0   0   0   0]\n",
            " [  0   0   0  16   0   0   0   0   0   0   0   0   0   0   0   0   0   0\n",
            "    0   0   0   0   0   0   0]\n",
            " [  0   0   0  14   0   0   0   0   0   0   0   0   0   0   0   0   0   0\n",
            "    0   0   0   0   0   0   0]\n",
            " [  0   0   0   3   0   0   0   0   0   0   2   0   0   0   0   0   0   0\n",
            "    0   0  15   0   0   0   0]\n",
            " [  0   0   0   1   0   0   0   0   0   0   0   0   0   0   0   0   0   0\n",
            "    0   0   0   0   0   0   0]\n",
            " [  0   0   0   1   0   0   0   0   0   0   0   0   0   0   0   0   0   0\n",
            "    0   0   1   0   0   0   0]\n",
            " [  0   0   0   3   0   0   0   0   0   0   0   0   0   0   0   0   0   0\n",
            "    0   0   0   0   0   0   0]\n",
            " [  1   0   0   0   0   0   0   0   0   0   0   0   0   0   0   0   0   0\n",
            "    0   0   0   0   0   0   0]]\n",
            "Share of Non-Fraud in Test Data: -11.067\n"
          ]
        }
      ],
      "source": [
        "print('Classification report:\\n', classification_report(y_test, predicted))\n",
        "conf_mat = confusion_matrix(y_true=y_test, y_pred=predicted)\n",
        "print('Confusion matrix:\\n', conf_mat)\n",
        "print('Share of Non-Fraud in Test Data:', 1-round(y_test.sum()/len(y_test),4))"
      ]
    },
    {
      "cell_type": "markdown",
      "id": "2d801db7",
      "metadata": {
        "id": "2d801db7",
        "pycharm": {
          "name": "#%% md\n"
        }
      },
      "source": [
        "**As we can see above the recall is around 75% while precision is just 6% which means there is a lot of false positives to handle.**"
      ]
    },
    {
      "cell_type": "markdown",
      "id": "bbc99beb",
      "metadata": {
        "id": "bbc99beb",
        "pycharm": {
          "name": "#%% md\n"
        }
      },
      "source": [
        "texte en italique## 2. Random forest:"
      ]
    },
    {
      "cell_type": "code",
      "execution_count": null,
      "id": "81b4e1d1",
      "metadata": {
        "id": "81b4e1d1",
        "pycharm": {
          "name": "#%%\n"
        }
      },
      "outputs": [],
      "source": []
    },
    {
      "cell_type": "code",
      "execution_count": 12,
      "id": "ce0645e7",
      "metadata": {
        "id": "ce0645e7",
        "pycharm": {
          "name": "#%%\n"
        }
      },
      "outputs": [],
      "source": [
        "# disable autologging\n",
        "mlflow.sklearn.autolog(disable=True)"
      ]
    },
    {
      "cell_type": "code",
      "execution_count": 13,
      "id": "5d6c2976",
      "metadata": {
        "id": "5d6c2976",
        "pycharm": {
          "name": "#%%\n"
        }
      },
      "outputs": [],
      "source": [
        "\n",
        "with mlflow.start_run(run_name='RandomForest'):\n",
        "    mlflow.log_param(\"data_url\",data_url)\n",
        "    mlflow.log_param(\"data_version\",version)\n",
        "    mlflow.log_param(\"input_rows\",df.shape[0])\n",
        "    mlflow.log_param(\"input_cols\",df.shape[1])\n",
        "    rf = RandomForestClassifier(random_state=5)\n",
        "    mlflow.set_tag(key=\"model\", value = \"RandomForest\")\n",
        "    params = rf.get_params()\n",
        "    mlflow.log_params(params)\n",
        "    rf.fit(X_resampled,y_resampled)\n",
        "    train_features_name = f'{X_resampled=}'.split('=')[0]\n",
        "    train_label_name = f'{y_resampled=}'.split('=')[0]\n",
        "    mlflow.set_tag(key=\"train_features_name\",value= train_features_name)\n",
        "    mlflow.set_tag(key= \"train_label_name\",value=train_label_name)\n",
        "    predicted=rf.predict(X_test)\n",
        "    precision,recall,fscore,support=score(y_test,predicted,average='macro')\n",
        "    mlflow.log_metric(\"Precision_test\",precision)\n",
        "    mlflow.log_metric(\"Recall_test\",recall)\n",
        "    mlflow.log_metric(\"F1_score_test\",fscore)\n",
        "    mlflow.sklearn.log_model(rf,artifact_path=\"ML_models\")\n"
      ]
    },
    {
      "cell_type": "code",
      "execution_count": 14,
      "id": "a3c8760f",
      "metadata": {
        "id": "a3c8760f"
      },
      "outputs": [],
      "source": [
        "rf = RandomForestClassifier(random_state=5)\n",
        "rf.fit(X_resampled,y_resampled)\n",
        "predicted=rf.predict(X_test)"
      ]
    },
    {
      "cell_type": "code",
      "execution_count": 15,
      "id": "092afa2d",
      "metadata": {
        "id": "092afa2d",
        "outputId": "8a770ce4-6deb-4be2-b00d-a1799b6e2eb9",
        "pycharm": {
          "name": "#%%\n"
        }
      },
      "outputs": [
        {
          "name": "stdout",
          "output_type": "stream",
          "text": [
            "Classification report:\n",
            "               precision    recall  f1-score   support\n",
            "\n",
            "           1       0.62      1.00      0.77        20\n",
            "           4       1.00      1.00      1.00         8\n",
            "           5       0.50      1.00      0.67         1\n",
            "           6       1.00      0.99      1.00       152\n",
            "           7       1.00      1.00      1.00        16\n",
            "           8       1.00      1.00      1.00        98\n",
            "           9       1.00      1.00      1.00        88\n",
            "          10       1.00      0.97      0.98        92\n",
            "          12       0.98      1.00      0.99        86\n",
            "          13       1.00      1.00      1.00        98\n",
            "          14       0.99      1.00      1.00       110\n",
            "          15       1.00      1.00      1.00         8\n",
            "          16       0.50      0.17      0.25         6\n",
            "          17       1.00      1.00      1.00         2\n",
            "          18       1.00      1.00      1.00        35\n",
            "          19       1.00      1.00      1.00        46\n",
            "          20       0.97      1.00      0.99        68\n",
            "          21       0.80      0.44      0.57         9\n",
            "          22       1.00      1.00      1.00        16\n",
            "          23       1.00      1.00      1.00        14\n",
            "          24       1.00      0.95      0.97        20\n",
            "          25       1.00      1.00      1.00         1\n",
            "          26       1.00      0.50      0.67         2\n",
            "          27       0.00      0.00      0.00         3\n",
            "          29       0.00      0.00      0.00         1\n",
            "\n",
            "    accuracy                           0.98      1000\n",
            "   macro avg       0.85      0.84      0.83      1000\n",
            "weighted avg       0.98      0.98      0.98      1000\n",
            "\n",
            "Confusion matrix:\n",
            " [[ 20   0   0   0   0   0   0   0   0   0   0   0   0   0   0   0   0   0\n",
            "    0   0   0   0   0   0   0]\n",
            " [  0   8   0   0   0   0   0   0   0   0   0   0   0   0   0   0   0   0\n",
            "    0   0   0   0   0   0   0]\n",
            " [  0   0   1   0   0   0   0   0   0   0   0   0   0   0   0   0   0   0\n",
            "    0   0   0   0   0   0   0]\n",
            " [  0   0   1 151   0   0   0   0   0   0   0   0   0   0   0   0   0   0\n",
            "    0   0   0   0   0   0   0]\n",
            " [  0   0   0   0  16   0   0   0   0   0   0   0   0   0   0   0   0   0\n",
            "    0   0   0   0   0   0   0]\n",
            " [  0   0   0   0   0  98   0   0   0   0   0   0   0   0   0   0   0   0\n",
            "    0   0   0   0   0   0   0]\n",
            " [  0   0   0   0   0   0  88   0   0   0   0   0   0   0   0   0   0   0\n",
            "    0   0   0   0   0   0   0]\n",
            " [  0   0   0   0   0   0   0  89   2   0   1   0   0   0   0   0   0   0\n",
            "    0   0   0   0   0   0   0]\n",
            " [  0   0   0   0   0   0   0   0  86   0   0   0   0   0   0   0   0   0\n",
            "    0   0   0   0   0   0   0]\n",
            " [  0   0   0   0   0   0   0   0   0  98   0   0   0   0   0   0   0   0\n",
            "    0   0   0   0   0   0   0]\n",
            " [  0   0   0   0   0   0   0   0   0   0 110   0   0   0   0   0   0   0\n",
            "    0   0   0   0   0   0   0]\n",
            " [  0   0   0   0   0   0   0   0   0   0   0   8   0   0   0   0   0   0\n",
            "    0   0   0   0   0   0   0]\n",
            " [  3   0   0   0   0   0   0   0   0   0   0   0   1   0   0   0   2   0\n",
            "    0   0   0   0   0   0   0]\n",
            " [  0   0   0   0   0   0   0   0   0   0   0   0   0   2   0   0   0   0\n",
            "    0   0   0   0   0   0   0]\n",
            " [  0   0   0   0   0   0   0   0   0   0   0   0   0   0  35   0   0   0\n",
            "    0   0   0   0   0   0   0]\n",
            " [  0   0   0   0   0   0   0   0   0   0   0   0   0   0   0  46   0   0\n",
            "    0   0   0   0   0   0   0]\n",
            " [  0   0   0   0   0   0   0   0   0   0   0   0   0   0   0   0  68   0\n",
            "    0   0   0   0   0   0   0]\n",
            " [  4   0   0   0   0   0   0   0   0   0   0   0   1   0   0   0   0   4\n",
            "    0   0   0   0   0   0   0]\n",
            " [  0   0   0   0   0   0   0   0   0   0   0   0   0   0   0   0   0   0\n",
            "   16   0   0   0   0   0   0]\n",
            " [  0   0   0   0   0   0   0   0   0   0   0   0   0   0   0   0   0   0\n",
            "    0  14   0   0   0   0   0]\n",
            " [  0   0   0   0   0   0   0   0   0   0   0   0   0   0   0   0   0   1\n",
            "    0   0  19   0   0   0   0]\n",
            " [  0   0   0   0   0   0   0   0   0   0   0   0   0   0   0   0   0   0\n",
            "    0   0   0   1   0   0   0]\n",
            " [  1   0   0   0   0   0   0   0   0   0   0   0   0   0   0   0   0   0\n",
            "    0   0   0   0   1   0   0]\n",
            " [  3   0   0   0   0   0   0   0   0   0   0   0   0   0   0   0   0   0\n",
            "    0   0   0   0   0   0   0]\n",
            " [  1   0   0   0   0   0   0   0   0   0   0   0   0   0   0   0   0   0\n",
            "    0   0   0   0   0   0   0]]\n",
            "Share of Non-Fraud in Test Data: -11.067\n"
          ]
        }
      ],
      "source": [
        "print('Classification report:\\n', classification_report(y_test, predicted))\n",
        "conf_mat = confusion_matrix(y_true=y_test, y_pred=predicted)\n",
        "print('Confusion matrix:\\n', conf_mat)\n",
        "print('Share of Non-Fraud in Test Data:', 1-round(y_test.sum()/len(y_test),4))"
      ]
    },
    {
      "cell_type": "markdown",
      "id": "4741492d",
      "metadata": {
        "id": "4741492d",
        "pycharm": {
          "name": "#%% md\n"
        }
      },
      "source": [
        "**The above metrics show that although the Random Forest model has a slightly lower recall, it has much better precision!**"
      ]
    },
    {
      "cell_type": "markdown",
      "id": "59504386",
      "metadata": {
        "id": "59504386"
      },
      "source": [
        "## 3.Xgboost:"
      ]
    },
    {
      "cell_type": "code",
      "execution_count": 16,
      "id": "6421ab87",
      "metadata": {
        "id": "6421ab87"
      },
      "outputs": [],
      "source": [
        "# disable autologging\n",
        "mlflow.xgboost.autolog(disable=True)"
      ]
    },
    {
      "cell_type": "code",
      "execution_count": 17,
      "id": "e6f194e3",
      "metadata": {
        "id": "e6f194e3"
      },
      "outputs": [],
      "source": [
        "\n",
        "with mlflow.start_run(run_name='XGBoost'):\n",
        "    mlflow.log_param(\"data_url\",data_url)\n",
        "    mlflow.log_param(\"data_version\",version)\n",
        "    mlflow.log_param(\"input_rows\",df.shape[0])\n",
        "    mlflow.log_param(\"input_cols\",df.shape[1])\n",
        "    xg = XGBClassifier()\n",
        "    params = xg.get_params()\n",
        "    mlflow.set_tag(key= \"model\", value=\"XGBClassifier\")\n",
        "    mlflow.log_params(params)\n",
        "    xg.fit(X_resampled,y_resampled)\n",
        "    train_features_name = f'{X_resampled=}'.split('=')[0]\n",
        "    train_label_name = f'{y_resampled=}'.split('=')[0]\n",
        "    mlflow.set_tag(key=\"train_features_name\",value= train_features_name)\n",
        "    mlflow.set_tag(key= \"train_label_name\",value=train_label_name)\n",
        "    predicted=xg.predict(X_test)\n",
        "    precision,recall,fscore,support=score(y_test,predicted,average='macro')\n",
        "    mlflow.log_metric(\"Precision_test\",precision)\n",
        "    mlflow.log_metric(\"Recall_test\",recall)\n",
        "    mlflow.log_metric(\"F1_score_test\",fscore)\n",
        "    mlflow.xgboost.log_model(xg,artifact_path=\"ML_models\")\n"
      ]
    },
    {
      "cell_type": "code",
      "execution_count": 18,
      "id": "22b54496",
      "metadata": {
        "id": "22b54496"
      },
      "outputs": [],
      "source": [
        "xg = XGBClassifier()\n",
        "xg.fit(X_resampled,y_resampled)\n",
        "predicted=xg.predict(X_test)"
      ]
    },
    {
      "cell_type": "code",
      "execution_count": 19,
      "id": "5ccd4c59",
      "metadata": {
        "id": "5ccd4c59",
        "outputId": "8afd0c4c-3e7e-4dae-aacc-24e198e72458"
      },
      "outputs": [
        {
          "name": "stdout",
          "output_type": "stream",
          "text": [
            "Classification report:\n",
            "               precision    recall  f1-score   support\n",
            "\n",
            "           1       0.65      1.00      0.78        20\n",
            "           4       1.00      1.00      1.00         8\n",
            "           5       0.50      1.00      0.67         1\n",
            "           6       1.00      0.99      1.00       152\n",
            "           7       1.00      1.00      1.00        16\n",
            "           8       1.00      1.00      1.00        98\n",
            "           9       1.00      1.00      1.00        88\n",
            "          10       1.00      0.98      0.99        92\n",
            "          12       1.00      1.00      1.00        86\n",
            "          13       1.00      1.00      1.00        98\n",
            "          14       1.00      1.00      1.00       110\n",
            "          15       1.00      0.88      0.93         8\n",
            "          16       0.60      0.50      0.55         6\n",
            "          17       0.67      1.00      0.80         2\n",
            "          18       0.97      0.97      0.97        35\n",
            "          19       1.00      1.00      1.00        46\n",
            "          20       0.99      1.00      0.99        68\n",
            "          21       1.00      0.33      0.50         9\n",
            "          22       1.00      1.00      1.00        16\n",
            "          23       1.00      1.00      1.00        14\n",
            "          24       1.00      0.95      0.97        20\n",
            "          25       0.50      1.00      0.67         1\n",
            "          26       0.50      0.50      0.50         2\n",
            "          27       0.00      0.00      0.00         3\n",
            "          28       0.00      0.00      0.00         0\n",
            "          29       0.00      0.00      0.00         1\n",
            "\n",
            "    accuracy                           0.98      1000\n",
            "   macro avg       0.78      0.81      0.78      1000\n",
            "weighted avg       0.98      0.98      0.98      1000\n",
            "\n",
            "Confusion matrix:\n",
            " [[ 20   0   0   0   0   0   0   0   0   0   0   0   0   0   0   0   0   0\n",
            "    0   0   0   0   0   0   0   0]\n",
            " [  0   8   0   0   0   0   0   0   0   0   0   0   0   0   0   0   0   0\n",
            "    0   0   0   0   0   0   0   0]\n",
            " [  0   0   1   0   0   0   0   0   0   0   0   0   0   0   0   0   0   0\n",
            "    0   0   0   0   0   0   0   0]\n",
            " [  0   0   1 151   0   0   0   0   0   0   0   0   0   0   0   0   0   0\n",
            "    0   0   0   0   0   0   0   0]\n",
            " [  0   0   0   0  16   0   0   0   0   0   0   0   0   0   0   0   0   0\n",
            "    0   0   0   0   0   0   0   0]\n",
            " [  0   0   0   0   0  98   0   0   0   0   0   0   0   0   0   0   0   0\n",
            "    0   0   0   0   0   0   0   0]\n",
            " [  0   0   0   0   0   0  88   0   0   0   0   0   0   0   0   0   0   0\n",
            "    0   0   0   0   0   0   0   0]\n",
            " [  1   0   0   0   0   0   0  90   0   0   0   0   0   0   1   0   0   0\n",
            "    0   0   0   0   0   0   0   0]\n",
            " [  0   0   0   0   0   0   0   0  86   0   0   0   0   0   0   0   0   0\n",
            "    0   0   0   0   0   0   0   0]\n",
            " [  0   0   0   0   0   0   0   0   0  98   0   0   0   0   0   0   0   0\n",
            "    0   0   0   0   0   0   0   0]\n",
            " [  0   0   0   0   0   0   0   0   0   0 110   0   0   0   0   0   0   0\n",
            "    0   0   0   0   0   0   0   0]\n",
            " [  0   0   0   0   0   0   0   0   0   0   0   7   1   0   0   0   0   0\n",
            "    0   0   0   0   0   0   0   0]\n",
            " [  0   0   0   0   0   0   0   0   0   0   0   0   3   0   0   0   1   0\n",
            "    0   0   0   1   0   0   1   0]\n",
            " [  0   0   0   0   0   0   0   0   0   0   0   0   0   2   0   0   0   0\n",
            "    0   0   0   0   0   0   0   0]\n",
            " [  0   0   0   0   0   0   0   0   0   0   0   0   0   1  34   0   0   0\n",
            "    0   0   0   0   0   0   0   0]\n",
            " [  0   0   0   0   0   0   0   0   0   0   0   0   0   0   0  46   0   0\n",
            "    0   0   0   0   0   0   0   0]\n",
            " [  0   0   0   0   0   0   0   0   0   0   0   0   0   0   0   0  68   0\n",
            "    0   0   0   0   0   0   0   0]\n",
            " [  4   0   0   0   0   0   0   0   0   0   0   0   1   0   0   0   0   3\n",
            "    0   0   0   0   1   0   0   0]\n",
            " [  0   0   0   0   0   0   0   0   0   0   0   0   0   0   0   0   0   0\n",
            "   16   0   0   0   0   0   0   0]\n",
            " [  0   0   0   0   0   0   0   0   0   0   0   0   0   0   0   0   0   0\n",
            "    0  14   0   0   0   0   0   0]\n",
            " [  1   0   0   0   0   0   0   0   0   0   0   0   0   0   0   0   0   0\n",
            "    0   0  19   0   0   0   0   0]\n",
            " [  0   0   0   0   0   0   0   0   0   0   0   0   0   0   0   0   0   0\n",
            "    0   0   0   1   0   0   0   0]\n",
            " [  1   0   0   0   0   0   0   0   0   0   0   0   0   0   0   0   0   0\n",
            "    0   0   0   0   1   0   0   0]\n",
            " [  3   0   0   0   0   0   0   0   0   0   0   0   0   0   0   0   0   0\n",
            "    0   0   0   0   0   0   0   0]\n",
            " [  0   0   0   0   0   0   0   0   0   0   0   0   0   0   0   0   0   0\n",
            "    0   0   0   0   0   0   0   0]\n",
            " [  1   0   0   0   0   0   0   0   0   0   0   0   0   0   0   0   0   0\n",
            "    0   0   0   0   0   0   0   0]]\n",
            "Share of Non-Fraud in Test Data: -11.067\n"
          ]
        }
      ],
      "source": [
        "print('Classification report:\\n', classification_report(y_test, predicted))\n",
        "conf_mat = confusion_matrix(y_true=y_test, y_pred=predicted)\n",
        "print('Confusion matrix:\\n', conf_mat)\n",
        "print('Share of Non-Fraud in Test Data:', 1-round(y_test.sum()/len(y_test),4))"
      ]
    },
    {
      "cell_type": "code",
      "execution_count": 20,
      "id": "b84b0e8b",
      "metadata": {
        "id": "b84b0e8b",
        "outputId": "ae1f9096-dae6-49b6-af51-5bd2fa802dad"
      },
      "outputs": [
        {
          "name": "stdout",
          "output_type": "stream",
          "text": [
            "4f7d0cbcde724147856e376a1ff0fa89\n"
          ]
        }
      ],
      "source": [
        "\n",
        "#Reading Pandas Dataframe from mlflow\n",
        "all_experiments = [exp.experiment_id for exp in mlflow.search_experiments()]\n",
        "df_mlflow = mlflow.search_runs(experiment_ids=all_experiments,filter_string=\"metrics.F1_score_test <1\")\n",
        "run_id = df_mlflow.loc[df_mlflow['metrics.F1_score_test'].idxmax()]['run_id']\n",
        "print(run_id)"
      ]
    },
    {
      "cell_type": "code",
      "execution_count": 21,
      "id": "607bd7fe",
      "metadata": {
        "id": "607bd7fe",
        "outputId": "e474537f-e3ff-4b01-d661-a1ac7ba64fbf"
      },
      "outputs": [
        {
          "data": {
            "text/html": [
              "<div>\n",
              "<style scoped>\n",
              "    .dataframe tbody tr th:only-of-type {\n",
              "        vertical-align: middle;\n",
              "    }\n",
              "\n",
              "    .dataframe tbody tr th {\n",
              "        vertical-align: top;\n",
              "    }\n",
              "\n",
              "    .dataframe thead th {\n",
              "        text-align: right;\n",
              "    }\n",
              "</style>\n",
              "<table border=\"1\" class=\"dataframe\">\n",
              "  <thead>\n",
              "    <tr style=\"text-align: right;\">\n",
              "      <th></th>\n",
              "      <th>run_id</th>\n",
              "      <th>experiment_id</th>\n",
              "      <th>status</th>\n",
              "      <th>artifact_uri</th>\n",
              "      <th>start_time</th>\n",
              "      <th>end_time</th>\n",
              "      <th>metrics.F1_score_test</th>\n",
              "      <th>metrics.Recall_test</th>\n",
              "      <th>metrics.Precision_test</th>\n",
              "      <th>params.booster</th>\n",
              "      <th>params.random_state</th>\n",
              "      <th>params.scale_pos_weight</th>\n",
              "      <th>params.subsample</th>\n",
              "      <th>params.feature_types</th>\n",
              "      <th>params.missing</th>\n",
              "      <th>params.base_score</th>\n",
              "      <th>params.callbacks</th>\n",
              "      <th>params.max_cat_threshold</th>\n",
              "      <th>params.interaction_constraints</th>\n",
              "      <th>params.device</th>\n",
              "      <th>params.validate_parameters</th>\n",
              "      <th>params.min_child_weight</th>\n",
              "      <th>params.num_parallel_tree</th>\n",
              "      <th>params.verbosity</th>\n",
              "      <th>params.max_leaves</th>\n",
              "      <th>params.colsample_bynode</th>\n",
              "      <th>params.early_stopping_rounds</th>\n",
              "      <th>params.input_cols</th>\n",
              "      <th>params.input_rows</th>\n",
              "      <th>params.sampling_method</th>\n",
              "      <th>params.tree_method</th>\n",
              "      <th>params.objective</th>\n",
              "      <th>params.max_cat_to_onehot</th>\n",
              "      <th>params.eval_metric</th>\n",
              "      <th>params.data_version</th>\n",
              "      <th>params.data_url</th>\n",
              "      <th>params.enable_categorical</th>\n",
              "      <th>params.max_delta_step</th>\n",
              "      <th>params.multi_strategy</th>\n",
              "      <th>params.reg_lambda</th>\n",
              "      <th>params.gamma</th>\n",
              "      <th>params.importance_type</th>\n",
              "      <th>params.colsample_bylevel</th>\n",
              "      <th>params.colsample_bytree</th>\n",
              "      <th>params.max_bin</th>\n",
              "      <th>params.monotone_constraints</th>\n",
              "      <th>params.n_estimators</th>\n",
              "      <th>params.grow_policy</th>\n",
              "      <th>params.reg_alpha</th>\n",
              "      <th>params.max_depth</th>\n",
              "      <th>params.learning_rate</th>\n",
              "      <th>params.n_jobs</th>\n",
              "      <th>params.max_features</th>\n",
              "      <th>params.min_samples_leaf</th>\n",
              "      <th>params.max_samples</th>\n",
              "      <th>params.ccp_alpha</th>\n",
              "      <th>params.class_weight</th>\n",
              "      <th>params.min_weight_fraction_leaf</th>\n",
              "      <th>params.max_leaf_nodes</th>\n",
              "      <th>params.min_impurity_decrease</th>\n",
              "      <th>params.verbose</th>\n",
              "      <th>params.criterion</th>\n",
              "      <th>params.oob_score</th>\n",
              "      <th>params.bootstrap</th>\n",
              "      <th>params.warm_start</th>\n",
              "      <th>params.min_samples_split</th>\n",
              "      <th>tags.mlflow.log-model.history</th>\n",
              "      <th>tags.train_features_name</th>\n",
              "      <th>tags.train_label_name</th>\n",
              "      <th>tags.model</th>\n",
              "      <th>tags.mlflow.source.name</th>\n",
              "      <th>tags.mlflow.user</th>\n",
              "      <th>tags.mlflow.runName</th>\n",
              "      <th>tags.mlflow.source.type</th>\n",
              "    </tr>\n",
              "  </thead>\n",
              "  <tbody>\n",
              "    <tr>\n",
              "      <th>0</th>\n",
              "      <td>3fa3a799a27147678828b7733f68b7a2</td>\n",
              "      <td>0</td>\n",
              "      <td>FINISHED</td>\n",
              "      <td>file:///c:/Users/ASUS/Desktop/research_cs/mlru...</td>\n",
              "      <td>2023-10-15 22:42:26.318000+00:00</td>\n",
              "      <td>2023-10-15 22:42:43.412000+00:00</td>\n",
              "      <td>0.781563</td>\n",
              "      <td>0.811594</td>\n",
              "      <td>0.783414</td>\n",
              "      <td>None</td>\n",
              "      <td>None</td>\n",
              "      <td>None</td>\n",
              "      <td>None</td>\n",
              "      <td>None</td>\n",
              "      <td>nan</td>\n",
              "      <td>None</td>\n",
              "      <td>None</td>\n",
              "      <td>None</td>\n",
              "      <td>None</td>\n",
              "      <td>None</td>\n",
              "      <td>None</td>\n",
              "      <td>None</td>\n",
              "      <td>None</td>\n",
              "      <td>None</td>\n",
              "      <td>None</td>\n",
              "      <td>None</td>\n",
              "      <td>None</td>\n",
              "      <td>47</td>\n",
              "      <td>5000</td>\n",
              "      <td>None</td>\n",
              "      <td>None</td>\n",
              "      <td>binary:logistic</td>\n",
              "      <td>None</td>\n",
              "      <td>None</td>\n",
              "      <td>v1.0</td>\n",
              "      <td>part-00000-363d1ba3-8ab5-4f96-bc25-4d5862db7cb...</td>\n",
              "      <td>False</td>\n",
              "      <td>None</td>\n",
              "      <td>None</td>\n",
              "      <td>None</td>\n",
              "      <td>None</td>\n",
              "      <td>None</td>\n",
              "      <td>None</td>\n",
              "      <td>None</td>\n",
              "      <td>None</td>\n",
              "      <td>None</td>\n",
              "      <td>None</td>\n",
              "      <td>None</td>\n",
              "      <td>None</td>\n",
              "      <td>None</td>\n",
              "      <td>None</td>\n",
              "      <td>None</td>\n",
              "      <td>None</td>\n",
              "      <td>None</td>\n",
              "      <td>None</td>\n",
              "      <td>None</td>\n",
              "      <td>None</td>\n",
              "      <td>None</td>\n",
              "      <td>None</td>\n",
              "      <td>None</td>\n",
              "      <td>None</td>\n",
              "      <td>None</td>\n",
              "      <td>None</td>\n",
              "      <td>None</td>\n",
              "      <td>None</td>\n",
              "      <td>None</td>\n",
              "      <td>[{\"run_id\": \"3fa3a799a27147678828b7733f68b7a2\"...</td>\n",
              "      <td>X_resampled</td>\n",
              "      <td>y_resampled</td>\n",
              "      <td>XGBClassifier</td>\n",
              "      <td>c:\\Users\\ASUS\\.ipython\\extensions\\envs\\venv\\li...</td>\n",
              "      <td>ASUS</td>\n",
              "      <td>XGBoost</td>\n",
              "      <td>LOCAL</td>\n",
              "    </tr>\n",
              "    <tr>\n",
              "      <th>1</th>\n",
              "      <td>4f7d0cbcde724147856e376a1ff0fa89</td>\n",
              "      <td>0</td>\n",
              "      <td>FINISHED</td>\n",
              "      <td>file:///c:/Users/ASUS/Desktop/research_cs/mlru...</td>\n",
              "      <td>2023-10-15 22:42:08.173000+00:00</td>\n",
              "      <td>2023-10-15 22:42:21.755000+00:00</td>\n",
              "      <td>0.833919</td>\n",
              "      <td>0.840877</td>\n",
              "      <td>0.854588</td>\n",
              "      <td>None</td>\n",
              "      <td>5</td>\n",
              "      <td>None</td>\n",
              "      <td>None</td>\n",
              "      <td>None</td>\n",
              "      <td>None</td>\n",
              "      <td>None</td>\n",
              "      <td>None</td>\n",
              "      <td>None</td>\n",
              "      <td>None</td>\n",
              "      <td>None</td>\n",
              "      <td>None</td>\n",
              "      <td>None</td>\n",
              "      <td>None</td>\n",
              "      <td>None</td>\n",
              "      <td>None</td>\n",
              "      <td>None</td>\n",
              "      <td>None</td>\n",
              "      <td>47</td>\n",
              "      <td>5000</td>\n",
              "      <td>None</td>\n",
              "      <td>None</td>\n",
              "      <td>None</td>\n",
              "      <td>None</td>\n",
              "      <td>None</td>\n",
              "      <td>v1.0</td>\n",
              "      <td>part-00000-363d1ba3-8ab5-4f96-bc25-4d5862db7cb...</td>\n",
              "      <td>None</td>\n",
              "      <td>None</td>\n",
              "      <td>None</td>\n",
              "      <td>None</td>\n",
              "      <td>None</td>\n",
              "      <td>None</td>\n",
              "      <td>None</td>\n",
              "      <td>None</td>\n",
              "      <td>None</td>\n",
              "      <td>None</td>\n",
              "      <td>100</td>\n",
              "      <td>None</td>\n",
              "      <td>None</td>\n",
              "      <td>None</td>\n",
              "      <td>None</td>\n",
              "      <td>None</td>\n",
              "      <td>sqrt</td>\n",
              "      <td>1</td>\n",
              "      <td>None</td>\n",
              "      <td>0.0</td>\n",
              "      <td>None</td>\n",
              "      <td>0.0</td>\n",
              "      <td>None</td>\n",
              "      <td>0.0</td>\n",
              "      <td>0</td>\n",
              "      <td>gini</td>\n",
              "      <td>False</td>\n",
              "      <td>True</td>\n",
              "      <td>False</td>\n",
              "      <td>2</td>\n",
              "      <td>[{\"run_id\": \"4f7d0cbcde724147856e376a1ff0fa89\"...</td>\n",
              "      <td>X_resampled</td>\n",
              "      <td>y_resampled</td>\n",
              "      <td>RandomForest</td>\n",
              "      <td>c:\\Users\\ASUS\\.ipython\\extensions\\envs\\venv\\li...</td>\n",
              "      <td>ASUS</td>\n",
              "      <td>RandomForest</td>\n",
              "      <td>LOCAL</td>\n",
              "    </tr>\n",
              "    <tr>\n",
              "      <th>2</th>\n",
              "      <td>1cf9b3405d244eacb6f490025aef6fab</td>\n",
              "      <td>0</td>\n",
              "      <td>FINISHED</td>\n",
              "      <td>file:///c:/Users/ASUS/Desktop/research_cs/mlru...</td>\n",
              "      <td>2023-10-15 22:41:49.427000+00:00</td>\n",
              "      <td>2023-10-15 22:42:06.725000+00:00</td>\n",
              "      <td>0.061782</td>\n",
              "      <td>0.094000</td>\n",
              "      <td>0.054298</td>\n",
              "      <td>None</td>\n",
              "      <td>None</td>\n",
              "      <td>None</td>\n",
              "      <td>None</td>\n",
              "      <td>None</td>\n",
              "      <td>None</td>\n",
              "      <td>None</td>\n",
              "      <td>None</td>\n",
              "      <td>None</td>\n",
              "      <td>None</td>\n",
              "      <td>None</td>\n",
              "      <td>None</td>\n",
              "      <td>None</td>\n",
              "      <td>None</td>\n",
              "      <td>None</td>\n",
              "      <td>None</td>\n",
              "      <td>None</td>\n",
              "      <td>None</td>\n",
              "      <td>47</td>\n",
              "      <td>5000</td>\n",
              "      <td>None</td>\n",
              "      <td>None</td>\n",
              "      <td>None</td>\n",
              "      <td>None</td>\n",
              "      <td>None</td>\n",
              "      <td>v1.0</td>\n",
              "      <td>part-00000-363d1ba3-8ab5-4f96-bc25-4d5862db7cb...</td>\n",
              "      <td>None</td>\n",
              "      <td>None</td>\n",
              "      <td>None</td>\n",
              "      <td>None</td>\n",
              "      <td>None</td>\n",
              "      <td>None</td>\n",
              "      <td>None</td>\n",
              "      <td>None</td>\n",
              "      <td>None</td>\n",
              "      <td>None</td>\n",
              "      <td>None</td>\n",
              "      <td>None</td>\n",
              "      <td>None</td>\n",
              "      <td>None</td>\n",
              "      <td>None</td>\n",
              "      <td>None</td>\n",
              "      <td>None</td>\n",
              "      <td>None</td>\n",
              "      <td>None</td>\n",
              "      <td>None</td>\n",
              "      <td>None</td>\n",
              "      <td>None</td>\n",
              "      <td>None</td>\n",
              "      <td>None</td>\n",
              "      <td>None</td>\n",
              "      <td>None</td>\n",
              "      <td>None</td>\n",
              "      <td>None</td>\n",
              "      <td>None</td>\n",
              "      <td>None</td>\n",
              "      <td>[{\"run_id\": \"1cf9b3405d244eacb6f490025aef6fab\"...</td>\n",
              "      <td>X_resampled</td>\n",
              "      <td>y_resampled</td>\n",
              "      <td>LogisticRegression</td>\n",
              "      <td>c:\\Users\\ASUS\\.ipython\\extensions\\envs\\venv\\li...</td>\n",
              "      <td>ASUS</td>\n",
              "      <td>LogisticRegression</td>\n",
              "      <td>LOCAL</td>\n",
              "    </tr>\n",
              "  </tbody>\n",
              "</table>\n",
              "</div>"
            ],
            "text/plain": [
              "                             run_id experiment_id    status  \\\n",
              "0  3fa3a799a27147678828b7733f68b7a2             0  FINISHED   \n",
              "1  4f7d0cbcde724147856e376a1ff0fa89             0  FINISHED   \n",
              "2  1cf9b3405d244eacb6f490025aef6fab             0  FINISHED   \n",
              "\n",
              "                                        artifact_uri  \\\n",
              "0  file:///c:/Users/ASUS/Desktop/research_cs/mlru...   \n",
              "1  file:///c:/Users/ASUS/Desktop/research_cs/mlru...   \n",
              "2  file:///c:/Users/ASUS/Desktop/research_cs/mlru...   \n",
              "\n",
              "                        start_time                         end_time  \\\n",
              "0 2023-10-15 22:42:26.318000+00:00 2023-10-15 22:42:43.412000+00:00   \n",
              "1 2023-10-15 22:42:08.173000+00:00 2023-10-15 22:42:21.755000+00:00   \n",
              "2 2023-10-15 22:41:49.427000+00:00 2023-10-15 22:42:06.725000+00:00   \n",
              "\n",
              "   metrics.F1_score_test  metrics.Recall_test  metrics.Precision_test  \\\n",
              "0               0.781563             0.811594                0.783414   \n",
              "1               0.833919             0.840877                0.854588   \n",
              "2               0.061782             0.094000                0.054298   \n",
              "\n",
              "  params.booster params.random_state params.scale_pos_weight params.subsample  \\\n",
              "0           None                None                    None             None   \n",
              "1           None                   5                    None             None   \n",
              "2           None                None                    None             None   \n",
              "\n",
              "  params.feature_types params.missing params.base_score params.callbacks  \\\n",
              "0                 None            nan              None             None   \n",
              "1                 None           None              None             None   \n",
              "2                 None           None              None             None   \n",
              "\n",
              "  params.max_cat_threshold params.interaction_constraints params.device  \\\n",
              "0                     None                           None          None   \n",
              "1                     None                           None          None   \n",
              "2                     None                           None          None   \n",
              "\n",
              "  params.validate_parameters params.min_child_weight params.num_parallel_tree  \\\n",
              "0                       None                    None                     None   \n",
              "1                       None                    None                     None   \n",
              "2                       None                    None                     None   \n",
              "\n",
              "  params.verbosity params.max_leaves params.colsample_bynode  \\\n",
              "0             None              None                    None   \n",
              "1             None              None                    None   \n",
              "2             None              None                    None   \n",
              "\n",
              "  params.early_stopping_rounds params.input_cols params.input_rows  \\\n",
              "0                         None                47              5000   \n",
              "1                         None                47              5000   \n",
              "2                         None                47              5000   \n",
              "\n",
              "  params.sampling_method params.tree_method params.objective  \\\n",
              "0                   None               None  binary:logistic   \n",
              "1                   None               None             None   \n",
              "2                   None               None             None   \n",
              "\n",
              "  params.max_cat_to_onehot params.eval_metric params.data_version  \\\n",
              "0                     None               None                v1.0   \n",
              "1                     None               None                v1.0   \n",
              "2                     None               None                v1.0   \n",
              "\n",
              "                                     params.data_url  \\\n",
              "0  part-00000-363d1ba3-8ab5-4f96-bc25-4d5862db7cb...   \n",
              "1  part-00000-363d1ba3-8ab5-4f96-bc25-4d5862db7cb...   \n",
              "2  part-00000-363d1ba3-8ab5-4f96-bc25-4d5862db7cb...   \n",
              "\n",
              "  params.enable_categorical params.max_delta_step params.multi_strategy  \\\n",
              "0                     False                  None                  None   \n",
              "1                      None                  None                  None   \n",
              "2                      None                  None                  None   \n",
              "\n",
              "  params.reg_lambda params.gamma params.importance_type  \\\n",
              "0              None         None                   None   \n",
              "1              None         None                   None   \n",
              "2              None         None                   None   \n",
              "\n",
              "  params.colsample_bylevel params.colsample_bytree params.max_bin  \\\n",
              "0                     None                    None           None   \n",
              "1                     None                    None           None   \n",
              "2                     None                    None           None   \n",
              "\n",
              "  params.monotone_constraints params.n_estimators params.grow_policy  \\\n",
              "0                        None                None               None   \n",
              "1                        None                 100               None   \n",
              "2                        None                None               None   \n",
              "\n",
              "  params.reg_alpha params.max_depth params.learning_rate params.n_jobs  \\\n",
              "0             None             None                 None          None   \n",
              "1             None             None                 None          None   \n",
              "2             None             None                 None          None   \n",
              "\n",
              "  params.max_features params.min_samples_leaf params.max_samples  \\\n",
              "0                None                    None               None   \n",
              "1                sqrt                       1               None   \n",
              "2                None                    None               None   \n",
              "\n",
              "  params.ccp_alpha params.class_weight params.min_weight_fraction_leaf  \\\n",
              "0             None                None                            None   \n",
              "1              0.0                None                             0.0   \n",
              "2             None                None                            None   \n",
              "\n",
              "  params.max_leaf_nodes params.min_impurity_decrease params.verbose  \\\n",
              "0                  None                         None           None   \n",
              "1                  None                          0.0              0   \n",
              "2                  None                         None           None   \n",
              "\n",
              "  params.criterion params.oob_score params.bootstrap params.warm_start  \\\n",
              "0             None             None             None              None   \n",
              "1             gini            False             True             False   \n",
              "2             None             None             None              None   \n",
              "\n",
              "  params.min_samples_split                      tags.mlflow.log-model.history  \\\n",
              "0                     None  [{\"run_id\": \"3fa3a799a27147678828b7733f68b7a2\"...   \n",
              "1                        2  [{\"run_id\": \"4f7d0cbcde724147856e376a1ff0fa89\"...   \n",
              "2                     None  [{\"run_id\": \"1cf9b3405d244eacb6f490025aef6fab\"...   \n",
              "\n",
              "  tags.train_features_name tags.train_label_name          tags.model  \\\n",
              "0              X_resampled           y_resampled       XGBClassifier   \n",
              "1              X_resampled           y_resampled        RandomForest   \n",
              "2              X_resampled           y_resampled  LogisticRegression   \n",
              "\n",
              "                             tags.mlflow.source.name tags.mlflow.user  \\\n",
              "0  c:\\Users\\ASUS\\.ipython\\extensions\\envs\\venv\\li...             ASUS   \n",
              "1  c:\\Users\\ASUS\\.ipython\\extensions\\envs\\venv\\li...             ASUS   \n",
              "2  c:\\Users\\ASUS\\.ipython\\extensions\\envs\\venv\\li...             ASUS   \n",
              "\n",
              "  tags.mlflow.runName tags.mlflow.source.type  \n",
              "0             XGBoost                   LOCAL  \n",
              "1        RandomForest                   LOCAL  \n",
              "2  LogisticRegression                   LOCAL  "
            ]
          },
          "execution_count": 21,
          "metadata": {},
          "output_type": "execute_result"
        }
      ],
      "source": [
        "df_mlflow"
      ]
    },
    {
      "cell_type": "code",
      "execution_count": null,
      "id": "7ad22124",
      "metadata": {},
      "outputs": [],
      "source": []
    },
    {
      "cell_type": "code",
      "execution_count": 24,
      "id": "48c6e2bd",
      "metadata": {
        "colab": {
          "referenced_widgets": [
            "5c67a51f327b4f1aa5e2a0acdf5b0022"
          ]
        },
        "id": "48c6e2bd",
        "outputId": "d5c9b816-eb95-49b2-896c-fba9e56f699e"
      },
      "outputs": [
        {
          "name": "stdout",
          "output_type": "stream",
          "text": [
            "mlflow.pyfunc.loaded_model:\n",
            "  artifact_path: ML_models\n",
            "  flavor: mlflow.sklearn\n",
            "  run_id: 4f7d0cbcde724147856e376a1ff0fa89\n",
            "\n"
          ]
        },
        {
          "data": {
            "text/plain": [
              "array([19, 13, 13, 20, 10,  9,  6, 13,  6, 14,  6, 14, 13,  8,  9, 13,  6,\n",
              "       10, 12,  6,  8, 20, 19,  9, 10, 13, 23,  9,  6,  6,  6,  9, 13,  8,\n",
              "        6,  6, 13,  9, 20, 10, 20, 14, 19, 13, 10, 14, 24,  9, 14, 12,  8,\n",
              "       12, 20,  9,  6, 20, 20,  6,  8,  6, 18, 12, 12, 20,  9, 20, 20,  6,\n",
              "       14, 12, 18,  9,  8, 12,  9, 12,  9, 22,  1, 18, 14, 13,  1, 19, 14,\n",
              "        6,  9, 13,  6, 14, 23, 13, 14,  9, 14, 12,  6, 23, 14, 14,  6, 13,\n",
              "        6, 14, 18, 13, 14, 14,  6,  1, 12,  8, 19, 15, 10, 13,  9,  8,  6,\n",
              "       13, 20, 18,  8, 22,  8, 19, 18, 14,  4, 13, 13,  7, 10, 10, 14,  1,\n",
              "        6,  9, 20,  6,  9,  9,  6,  8, 10,  8,  9, 18, 12, 12,  6,  6, 20,\n",
              "        8,  4, 10, 12, 19, 20,  6,  8, 18, 12,  6, 12, 14, 13, 10,  8,  6,\n",
              "        6, 22,  6, 24, 10,  8, 12,  8,  6, 22, 13, 20,  9, 20,  8, 13,  8,\n",
              "       14, 20, 22, 24,  9,  1,  4,  6, 10, 10,  1,  9,  6,  1,  6,  6, 14,\n",
              "       14, 24, 13, 14, 12,  6,  7, 14, 14, 20,  8, 14,  8, 20, 23,  1,  1,\n",
              "       12, 22, 14,  1,  8, 20,  6, 20, 13, 10,  9, 12, 19, 12, 13, 10,  9,\n",
              "        7, 21, 22, 24, 13,  8, 20,  6, 10, 12,  6,  9,  8, 20, 10, 19,  8,\n",
              "       22,  8,  9,  8,  9,  8,  8,  6,  7,  6, 20, 22, 10, 13, 12, 12,  8,\n",
              "        6, 20,  9,  1, 10,  1, 13,  6, 10, 13,  8, 20, 13,  6, 10,  6, 12,\n",
              "       13,  8, 12, 20,  8, 13, 13,  6, 17,  6,  6, 13,  6,  6, 19, 22, 13,\n",
              "        9, 19, 12, 14, 20, 14, 10,  8,  6, 13,  1,  9, 13, 14, 12, 22,  8,\n",
              "       18, 10, 13,  9,  6, 24, 13, 18, 20,  6, 12,  6, 24, 10, 20,  8, 13,\n",
              "       10,  6, 14,  8,  1, 14,  8, 13, 20, 19, 13, 13, 14, 23,  6, 14, 12,\n",
              "        9, 13, 13, 12, 14,  6,  8, 10, 10, 15,  8, 14, 13,  6,  8,  7,  6,\n",
              "        1,  6, 10, 14,  6, 12, 13, 14, 18, 12, 20,  6, 14, 12, 10, 12, 14,\n",
              "       14,  6,  9, 14, 20,  8, 13,  1, 20,  8, 10, 19, 14,  6,  9, 18,  8,\n",
              "        1, 13,  1, 14, 19, 14,  1, 12,  9,  6, 14, 14, 14, 13, 10,  9, 10,\n",
              "        9, 20,  6, 14, 22, 14,  9,  6, 14, 24, 14, 19,  8, 24, 10,  6,  9,\n",
              "       19,  9, 12, 10, 18, 10, 14, 18, 19, 19,  9,  6,  6,  8, 10, 20,  8,\n",
              "        6, 15,  6, 10, 14,  6,  8,  6,  6, 19, 15,  6,  6,  6, 10,  4, 23,\n",
              "       13, 18,  6, 18, 13,  7, 10,  9,  6,  6, 23, 10, 20, 12,  4,  8, 19,\n",
              "       13, 18, 23, 14, 12,  7,  9, 10,  6, 20,  9, 13, 19,  6, 12,  9,  6,\n",
              "       13, 10, 14,  8, 13, 20, 13, 14, 15, 20,  9, 20, 18, 12, 12,  8, 10,\n",
              "       13,  6, 14,  9, 24,  6,  8, 15,  9,  9,  1, 10,  9, 21, 12, 12,  6,\n",
              "       18, 18, 12, 10, 20, 10, 12, 19,  6, 14,  6,  6, 12, 18, 10,  8,  6,\n",
              "        1, 14, 14, 20, 14, 18, 19,  6, 20, 14, 20,  9,  1, 10, 19, 19,  8,\n",
              "        8, 19,  6,  6,  1,  7,  6, 19, 23, 12, 14,  9, 10, 13, 10,  9, 13,\n",
              "       15,  6, 20,  9, 19,  1,  6,  8,  8,  9, 18, 14, 13, 18,  6, 14, 18,\n",
              "       20,  6, 20, 18,  6, 19,  6,  8,  6, 12, 19,  6,  8, 13,  6,  1,  6,\n",
              "       10,  8, 12,  6,  8, 12,  6,  8, 12, 10, 10,  6, 14,  8, 20, 13,  7,\n",
              "       10,  8, 14, 19,  8,  6, 14, 20, 14, 12, 18, 13, 19,  8,  8,  6, 13,\n",
              "       10, 20,  9, 19, 12,  7,  6,  9,  7, 14,  6, 23,  9,  6, 10,  9,  6,\n",
              "       10,  8,  9,  8, 12, 20, 10,  6,  6,  6, 13, 20, 12, 26, 23, 14,  5,\n",
              "        6, 14, 15,  8, 13, 19, 12, 10, 12, 13, 10, 19, 19, 14, 12,  1, 12,\n",
              "       13,  8, 14, 10,  6, 12, 19,  8, 16, 13, 16,  6, 19,  9, 20, 13,  8,\n",
              "        6,  8,  8,  8, 14, 10,  6,  8, 12, 23,  9,  7, 10, 13, 21, 19, 14,\n",
              "        9, 12, 10, 12, 12, 13, 12,  8, 14, 13,  6, 10,  6, 10,  6, 13,  9,\n",
              "       24, 10, 24, 12, 10, 18, 14, 10, 14, 12, 13,  6,  6, 20,  6, 13,  6,\n",
              "       14, 20, 14,  9, 13, 13,  6,  6,  4,  6, 22, 20, 18,  9, 14, 20, 10,\n",
              "       10,  9, 14, 19, 18, 10,  6, 10,  8,  8,  8, 14, 14, 14,  8, 10,  8,\n",
              "        6, 14, 20,  9, 14,  8, 12,  9, 13, 20, 24,  9, 10, 24, 10, 23, 13,\n",
              "       14,  9, 10,  6, 13,  9, 14,  8, 13, 12, 12, 20,  8, 12, 20,  1,  6,\n",
              "       18,  6,  8,  9, 12, 12, 14, 12, 19, 12,  7, 14, 13,  6,  8,  8,  6,\n",
              "       10,  7, 13, 13, 23, 14, 14,  8, 10, 12, 13,  9,  1,  4, 12, 13, 19,\n",
              "        8,  1,  9,  1, 13, 14, 20, 24, 10,  1, 24,  6, 12, 10, 13, 20,  6,\n",
              "        4,  6, 14,  6, 10, 10,  8, 14, 12, 12, 17, 13, 12, 14,  6, 12, 13,\n",
              "       14,  8,  9,  9, 13, 13, 18, 14, 12,  8,  5,  9, 21, 13,  7, 20, 24,\n",
              "       13,  6, 12, 20,  9, 13, 22, 25, 19, 20, 21,  8, 19, 18,  6,  6,  9,\n",
              "       14, 10, 19, 24, 14,  9, 20, 10, 13,  9, 12, 14, 14, 22,  8,  9, 12,\n",
              "        6,  1, 18, 10,  7, 22, 13,  8, 20, 12, 18,  9,  9, 14, 24, 10, 12,\n",
              "       14,  6,  9,  9, 20,  9, 14, 14, 10, 14, 19,  8,  6, 14])"
            ]
          },
          "execution_count": 24,
          "metadata": {},
          "output_type": "execute_result"
        }
      ],
      "source": [
        "\n",
        "#let's call the model from the model registry ( in production stage)\n",
        "import mlflow.pyfunc\n",
        "\n",
        "logged_model = f'runs:/{run_id}/ML_models'\n",
        "\n",
        "# Load model as a PyFuncModel.\n",
        "loaded_model = mlflow.pyfunc.load_model(logged_model)\n",
        "print(loaded_model)\n",
        "\n",
        "# Predict on a Pandas DataFrame.\n",
        "\n",
        "\n",
        "loaded_model.predict(X_test)"
      ]
    },
    {
      "cell_type": "code",
      "execution_count": null,
      "id": "7f139030",
      "metadata": {},
      "outputs": [],
      "source": []
    }
  ],
  "metadata": {
    "colab": {
      "provenance": []
    },
    "kernelspec": {
      "display_name": "Python 3 (ipykernel)",
      "language": "python",
      "name": "python3"
    },
    "language_info": {
      "codemirror_mode": {
        "name": "ipython",
        "version": 3
      },
      "file_extension": ".py",
      "mimetype": "text/x-python",
      "name": "python",
      "nbconvert_exporter": "python",
      "pygments_lexer": "ipython3",
      "version": "3.9.0"
    },
    "vscode": {
      "interpreter": {
        "hash": "b4e99843e81c2deca2d3224feb79a0f5957a83d6a63823c56a0008e49a2646df"
      }
    }
  },
  "nbformat": 4,
  "nbformat_minor": 5
}
